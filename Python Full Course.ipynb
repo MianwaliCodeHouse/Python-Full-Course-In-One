{
 "cells": [
  {
   "cell_type": "markdown",
   "id": "14981e03",
   "metadata": {},
   "source": [
    "# Variables"
   ]
  },
  {
   "cell_type": "markdown",
   "id": "147a4376",
   "metadata": {},
   "source": [
    "Syntax: variable_name = value\n",
    "Description: Used to store data that can be referenced and manipulated in a program."
   ]
  },
  {
   "cell_type": "code",
   "execution_count": 3,
   "id": "85c6a355",
   "metadata": {},
   "outputs": [],
   "source": [
    "integer_var=5\n",
    "string_var=\"Yasir\"\n",
    "string_var='\"Yasir\"'\n",
    "string_var='''YouTubeChannelName:'\"Yasir\"'Developer'''"
   ]
  },
  {
   "cell_type": "markdown",
   "id": "28474c85",
   "metadata": {},
   "source": [
    "# Print Function"
   ]
  },
  {
   "cell_type": "markdown",
   "id": "2df4aa58",
   "metadata": {},
   "source": [
    "Syntax: print(value, ...)\n",
    "Description: Outputs values to the console."
   ]
  },
  {
   "cell_type": "code",
   "execution_count": 4,
   "id": "a8a68820",
   "metadata": {},
   "outputs": [
    {
     "name": "stdout",
     "output_type": "stream",
     "text": [
      "yasir\n",
      "4\n",
      "yasir 4\n",
      "yasir4\n"
     ]
    }
   ],
   "source": [
    "print(\"yasir\")\n",
    "print(4)\n",
    "print(\"yasir\",4)\n",
    "print(\"yasir\"+str(4))"
   ]
  },
  {
   "cell_type": "markdown",
   "id": "92718dac",
   "metadata": {},
   "source": [
    "# Input Function"
   ]
  },
  {
   "cell_type": "markdown",
   "id": "c044699e",
   "metadata": {},
   "source": [
    "Syntax: input(prompt)\n",
    "Description: Reads a string from user input."
   ]
  },
  {
   "cell_type": "code",
   "execution_count": 11,
   "id": "472f614b",
   "metadata": {},
   "outputs": [
    {
     "name": "stdout",
     "output_type": "stream",
     "text": [
      "Enter the Number155\n",
      "Enter the Number299\n",
      "You Enter :  5599\n"
     ]
    }
   ],
   "source": [
    "# input(\"Enter the Number\")\n",
    "# number=input(\"Enter the Number\")\n",
    "number1=int(input(\"Enter the Number1\"))\n",
    "number2=int(input(\"Enter the Number2\"))\n",
    "print(\"You Enter : \", number1+number2)"
   ]
  },
  {
   "cell_type": "markdown",
   "id": "6725970f",
   "metadata": {},
   "source": [
    "# eval Function"
   ]
  },
  {
   "cell_type": "code",
   "execution_count": 12,
   "id": "ed13972c",
   "metadata": {},
   "outputs": [
    {
     "name": "stdout",
     "output_type": "stream",
     "text": [
      "Enter the Math Expression: (1+3)*3/2\n",
      "Result :  6.0\n"
     ]
    }
   ],
   "source": [
    "exp=input(\"Enter the Math Expression: \")\n",
    "print('Result : ', eval(exp))"
   ]
  },
  {
   "cell_type": "markdown",
   "id": "b2933f31",
   "metadata": {},
   "source": [
    "# if"
   ]
  },
  {
   "cell_type": "markdown",
   "id": "99879ba2",
   "metadata": {},
   "source": [
    "if condition:\n",
    "    # code block\n",
    "Description: Executes a block of code if the condition is true."
   ]
  },
  {
   "cell_type": "code",
   "execution_count": 25,
   "id": "d60467fb",
   "metadata": {},
   "outputs": [],
   "source": [
    "if False:\n",
    "    print('condition true')"
   ]
  },
  {
   "cell_type": "markdown",
   "id": "e346fb2f",
   "metadata": {},
   "source": [
    "# if-else"
   ]
  },
  {
   "cell_type": "markdown",
   "id": "bb06b609",
   "metadata": {},
   "source": [
    "if condition:\n",
    "    # code block\n",
    "else:\n",
    "    # code block"
   ]
  },
  {
   "cell_type": "code",
   "execution_count": 27,
   "id": "7a286e92",
   "metadata": {},
   "outputs": [
    {
     "name": "stdout",
     "output_type": "stream",
     "text": [
      "condition is true\n"
     ]
    }
   ],
   "source": [
    "if True:\n",
    "    print('condition is true')\n",
    "else:\n",
    "    print('condition is false')"
   ]
  },
  {
   "cell_type": "markdown",
   "id": "6fa3f89b",
   "metadata": {},
   "source": [
    "# if-else-if"
   ]
  },
  {
   "cell_type": "markdown",
   "id": "0910c23c",
   "metadata": {},
   "source": [
    "if condition1:\n",
    "    # code block\n",
    "elif condition2:\n",
    "    # code block\n",
    "else:\n",
    "    # code block"
   ]
  },
  {
   "cell_type": "code",
   "execution_count": 32,
   "id": "776aea35",
   "metadata": {},
   "outputs": [
    {
     "name": "stdout",
     "output_type": "stream",
     "text": [
      "Enter the Name: Hasnain\n",
      "You Are Invalid User\n"
     ]
    }
   ],
   "source": [
    "name=input(\"Enter the Name: \")\n",
    "if name==\"Yasir\":\n",
    "    print(\"You Are Programmer\")\n",
    "elif name==\"Nasir\":\n",
    "    print(\"You Are Video Editor\")\n",
    "else:\n",
    "    print(\"You Are Invalid User\")"
   ]
  },
  {
   "cell_type": "markdown",
   "id": "0a39640a",
   "metadata": {},
   "source": [
    "# while loop"
   ]
  },
  {
   "cell_type": "markdown",
   "id": "9b25b731",
   "metadata": {},
   "source": [
    "while condition:\n",
    "    block"
   ]
  },
  {
   "cell_type": "code",
   "execution_count": 37,
   "id": "3ffcd8dd",
   "metadata": {},
   "outputs": [
    {
     "name": "stdout",
     "output_type": "stream",
     "text": [
      "body :  1\n",
      "body :  2\n",
      "body :  3\n",
      "body :  4\n",
      "body :  5\n"
     ]
    }
   ],
   "source": [
    "i=0\n",
    "while i<5:\n",
    "    i=i+1\n",
    "    print(\"body : \",i)\n",
    "    "
   ]
  },
  {
   "cell_type": "markdown",
   "id": "79ed6ec6",
   "metadata": {},
   "source": [
    "# for loop"
   ]
  },
  {
   "cell_type": "markdown",
   "id": "d82132e5",
   "metadata": {},
   "source": [
    "for item in iterable:\n",
    "    # code block\n",
    "for item in range(start,end):\n",
    "    # code block"
   ]
  },
  {
   "cell_type": "code",
   "execution_count": 41,
   "id": "e5c6bcd4",
   "metadata": {},
   "outputs": [
    {
     "name": "stdout",
     "output_type": "stream",
     "text": [
      "body  1\n",
      "body  2\n",
      "body  3\n",
      "body  4\n"
     ]
    }
   ],
   "source": [
    "for x in range(1,5):\n",
    "    print('body ',x)"
   ]
  },
  {
   "cell_type": "markdown",
   "id": "475ef606",
   "metadata": {},
   "source": [
    "# Functions"
   ]
  },
  {
   "cell_type": "markdown",
   "id": "fd9a6626",
   "metadata": {},
   "source": [
    "def function_name(parameters):\n",
    "    # code block"
   ]
  },
  {
   "cell_type": "code",
   "execution_count": 49,
   "id": "c89ceac5",
   "metadata": {},
   "outputs": [
    {
     "name": "stdout",
     "output_type": "stream",
     "text": [
      "Function body Execute\n"
     ]
    }
   ],
   "source": [
    "# def my_calculator(exp):\n",
    "#     result=eval(exp)\n",
    "#     return result\n",
    "# response=my_calculator('2+2')\n",
    "# print(\"My Calcualtor Function Return : \",response)\n",
    "\n",
    "def my_calculator():\n",
    "    print('Function body Execute')\n",
    "    \n",
    "my_calculator()"
   ]
  },
  {
   "cell_type": "markdown",
   "id": "d558d88c",
   "metadata": {},
   "source": [
    "# List"
   ]
  },
  {
   "cell_type": "code",
   "execution_count": 60,
   "id": "f9e0a370",
   "metadata": {},
   "outputs": [
    {
     "name": "stdout",
     "output_type": "stream",
     "text": [
      "[1, 'string', 3.3]\n",
      "[1, 'string']\n"
     ]
    }
   ],
   "source": [
    "list_var=[1,'string',3.3]\n",
    "print(list_var)\n",
    "list_var.append(\"new value\")\n",
    "\n",
    "# slicing\n",
    "print(list_var[:2])"
   ]
  },
  {
   "cell_type": "markdown",
   "id": "e793340c",
   "metadata": {},
   "source": [
    "# Tuple"
   ]
  },
  {
   "cell_type": "code",
   "execution_count": 64,
   "id": "af105107",
   "metadata": {},
   "outputs": [
    {
     "name": "stdout",
     "output_type": "stream",
     "text": [
      "(4.4,)\n"
     ]
    }
   ],
   "source": [
    "tuple_var=(1,'string',4.4)\n",
    "\n",
    "# tuple slicing\n",
    "print(tuple_var[2:])"
   ]
  },
  {
   "cell_type": "markdown",
   "id": "b9df1602",
   "metadata": {},
   "source": [
    "# Dictionary"
   ]
  },
  {
   "cell_type": "code",
   "execution_count": 74,
   "id": "9427e92d",
   "metadata": {},
   "outputs": [
    {
     "name": "stdout",
     "output_type": "stream",
     "text": [
      "{'name': 'Yasir', 'age': 23, 'city': 'mianwali', 'email': 'mianwalicodehouse@gmail.com'}\n",
      "{'name': 'Yasir', 'city': 'mianwali', 'email': 'mianwalicodehouse@gmail.com'}\n"
     ]
    }
   ],
   "source": [
    "dic_var={\n",
    "    'name':\"Yasir\",\n",
    "    'age': 23,\n",
    "    \"city\" : \"mianwali\"\n",
    "}\n",
    "# print(dic_var[\"name\"])\n",
    "dic_var[\"email\"]=\"mianwalicodehouse@gmail.com\"\n",
    "print(dic_var)\n",
    "del dic_var['age']\n",
    "print(dic_var)"
   ]
  },
  {
   "cell_type": "markdown",
   "id": "267a8c0d",
   "metadata": {},
   "source": [
    "# List vs Tuple vs Dictionary"
   ]
  },
  {
   "cell_type": "markdown",
   "id": "0003bf75",
   "metadata": {},
   "source": [
    "List\n",
    "Definition: Ordered, mutable collection of items.\n",
    "Syntax: list_name = [item1, item2, ...]\n",
    "Characteristics:\n",
    "Ordered\n",
    "Mutable\n",
    "Allows duplicate elements\n",
    "Use Cases: Storing sequences of items that may need modification.\n",
    "Tuple\n",
    "Definition: Ordered, immutable collection of items.\n",
    "Syntax: tuple_name = (item1, item2, ...)\n",
    "Characteristics:\n",
    "Ordered\n",
    "Immutable\n",
    "Allows duplicate elements\n",
    "Use Cases: Storing fixed collections of items, returning multiple values from functions.\n",
    "Dictionary\n",
    "Definition: Unordered collection of key-value pairs.\n",
    "Syntax: dict_name = {key1: value1, key2: value2, ...}\n",
    "Characteristics:\n",
    "Unordered (insertion order preserved from Python 3.7)\n",
    "Mutable\n",
    "Unique keys, values can be duplicated\n",
    "Use Cases: Fast lookups, mappings, storing data pairs like configuration settings.\n",
    "Comparison\n",
    "Mutability:\n",
    "\n",
    "List: Mutable (modifiable).\n",
    "Tuple: Immutable (unmodifiable).\n",
    "Dictionary: Mutable (modifiable).\n",
    "Ordering:\n",
    "\n",
    "List: Maintains order.\n",
    "Tuple: Maintains order.\n",
    "Dictionary: Maintains order (from Python 3.7).\n",
    "Access:\n",
    "\n",
    "List/Tuple: Accessed by index.\n",
    "Dictionary: Accessed by key.\n",
    "Performance:\n",
    "\n",
    "List: Slower for lookups compared to dictionaries.\n",
    "Tuple: Generally faster than lists due to immutability.\n",
    "Dictionary: Fast lookups based on keys."
   ]
  },
  {
   "cell_type": "markdown",
   "id": "bcaebf77",
   "metadata": {},
   "source": [
    "# OPP"
   ]
  },
  {
   "cell_type": "code",
   "execution_count": 87,
   "id": "dc5b3722",
   "metadata": {},
   "outputs": [
    {
     "name": "stdout",
     "output_type": "stream",
     "text": [
      "Get Object Class Variables Value:  2 10\n",
      "12\n",
      "Get Object Class Variables Value:  12 10\n",
      "2\n"
     ]
    }
   ],
   "source": [
    "A programming paradigm based on objects, which are instances of classes. It focuses on using objects to design software."
   ]
  },
  {
   "cell_type": "code",
   "execution_count": 90,
   "id": "633da31e",
   "metadata": {
    "scrolled": true
   },
   "outputs": [
    {
     "name": "stdout",
     "output_type": "stream",
     "text": [
      "Public\n",
      "Protected\n",
      "Private\n"
     ]
    }
   ],
   "source": []
  },
  {
   "cell_type": "markdown",
   "id": "f27b87cc",
   "metadata": {},
   "source": [
    "# Classes"
   ]
  },
  {
   "cell_type": "code",
   "execution_count": null,
   "id": "5f8b1ed9",
   "metadata": {},
   "outputs": [],
   "source": [
    "class calculator:\n",
    "    def __init__(self,num1,num2):\n",
    "        self.num1=num1\n",
    "        self.num2=num2\n",
    "    def sum(self):\n",
    "        return self.num1+self.num2\n",
    "    def sub(self):\n",
    "        return self.num1-self.num2\n",
    "\n",
    "\n",
    "\n",
    "cal_obj=calculator(2,10)\n",
    "print(\"Get Object Class Variables Value: \", cal_obj.num1,cal_obj.num2)\n",
    "result=cal_obj.sum()\n",
    "print(result)\n",
    "\n",
    "cal_obj=calculator(12,10)\n",
    "print(\"Get Object Class Variables Value: \", cal_obj.num1,cal_obj.num2)\n",
    "result=cal_obj.sub()\n",
    "print(result)"
   ]
  },
  {
   "cell_type": "markdown",
   "id": "86182cf8",
   "metadata": {},
   "source": [
    "# Access Modifiers"
   ]
  },
  {
   "cell_type": "code",
   "execution_count": null,
   "id": "673811df",
   "metadata": {},
   "outputs": [],
   "source": [
    "class Sample:\n",
    "    def __init__(self):\n",
    "        self.public = \"Public\"\n",
    "        self._protected = \"Protected\"\n",
    "        self.__private = \"Private\"\n",
    "    def returnPrivate(self):\n",
    "        return self.__private\n",
    "\n",
    "obj = Sample()\n",
    "print(obj.public)      # Accessible\n",
    "print(obj._protected)  # Accessible, but intended to be protected\n",
    "print(obj.returnPrivate()) # Not accessible, raises AttributeError"
   ]
  },
  {
   "cell_type": "markdown",
   "id": "690da7d6",
   "metadata": {},
   "source": [
    "# Accessor & Mutator"
   ]
  },
  {
   "cell_type": "code",
   "execution_count": 93,
   "id": "4953c4fe",
   "metadata": {},
   "outputs": [
    {
     "data": {
      "text/plain": [
       "'Yasir'"
      ]
     },
     "execution_count": 93,
     "metadata": {},
     "output_type": "execute_result"
    }
   ],
   "source": [
    "class Sample:\n",
    "    def __init__(self):\n",
    "        self.__name = \"Private\"\n",
    "    def accessorFunction(self):\n",
    "        return self.__name\n",
    "    def mutatorFunction(self,name):\n",
    "        self.__name=name\n",
    "\n",
    "obj = Sample()\n",
    "obj.mutatorFunction(\"Yasir\")\n",
    "obj.accessorFunction()\n"
   ]
  },
  {
   "cell_type": "markdown",
   "id": "584e6e4d",
   "metadata": {},
   "source": [
    "# Inheritance"
   ]
  },
  {
   "cell_type": "code",
   "execution_count": 94,
   "id": "b9cd9062",
   "metadata": {},
   "outputs": [
    {
     "name": "stdout",
     "output_type": "stream",
     "text": [
      "Animal speaks\n",
      "Dog barks\n"
     ]
    }
   ],
   "source": [
    "class Animal:\n",
    "    def speak(self):\n",
    "        print(\"Animal speaks\")\n",
    "\n",
    "class Dog(Animal):\n",
    "    def bark(self):\n",
    "        print(\"Dog barks\")\n",
    "\n",
    "my_dog = Dog()\n",
    "my_dog.speak()  # Output: Animal speaks\n",
    "my_dog.bark()   # Output: Dog barks"
   ]
  },
  {
   "cell_type": "markdown",
   "id": "fd59332e",
   "metadata": {},
   "source": [
    "# Polymorphism"
   ]
  },
  {
   "cell_type": "code",
   "execution_count": 96,
   "id": "17602f18",
   "metadata": {},
   "outputs": [
    {
     "name": "stdout",
     "output_type": "stream",
     "text": [
      "Meow\n",
      "Woof\n"
     ]
    }
   ],
   "source": [
    "class Cat:\n",
    "    def sound(self):\n",
    "        print(\"Meow\")\n",
    "\n",
    "class Dog:\n",
    "    def sound(self):\n",
    "        print(\"Woof\")\n",
    "\n",
    "\n",
    "\n",
    "cat = Cat()\n",
    "dog = Dog()\n",
    "\n",
    "cat.sound()  # Output: Meow\n",
    "dog.sound()  # Output: Woof\n"
   ]
  }
 ],
 "metadata": {
  "kernelspec": {
   "display_name": "Python 3 (ipykernel)",
   "language": "python",
   "name": "python3"
  },
  "language_info": {
   "codemirror_mode": {
    "name": "ipython",
    "version": 3
   },
   "file_extension": ".py",
   "mimetype": "text/x-python",
   "name": "python",
   "nbconvert_exporter": "python",
   "pygments_lexer": "ipython3",
   "version": "3.11.2"
  }
 },
 "nbformat": 4,
 "nbformat_minor": 5
}
